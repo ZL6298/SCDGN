version https://git-lfs.github.com/spec/v1
oid sha256:924f8a66e0631c0c28bbbd24d24a0cc6390253b05b986ffb8867083dbae8b6f4
size 41184
