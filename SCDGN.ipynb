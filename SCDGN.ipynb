version https://git-lfs.github.com/spec/v1
oid sha256:f5c66f294a911e4a50bf0f6d515ed96a2abe35c9de2b7f4e07f46c3ff638761b
size 24736
